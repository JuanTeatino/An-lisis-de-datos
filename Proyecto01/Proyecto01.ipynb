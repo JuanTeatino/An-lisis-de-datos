{
 "cells": [
  {
   "cell_type": "markdown",
   "id": "4751f0a4",
   "metadata": {},
   "source": [
    "# Proyecto 01\n",
    "\n",
    "## Mostrando informacion al Usuario\n",
    "\n",
    "Comando print()"
   ]
  },
  {
   "cell_type": "code",
   "execution_count": null,
   "id": "4d304acc",
   "metadata": {},
   "outputs": [
    {
     "name": "stdout",
     "output_type": "stream",
     "text": [
      "Semana de python en la practica\n",
      "Juan, El mejor programador\n"
     ]
    }
   ],
   "source": [
    "print(\"Semana de python en la practica\")\n",
    "print(\"Juan, El mejor programador\")"
   ]
  },
  {
   "cell_type": "markdown",
   "id": "e390351e",
   "metadata": {},
   "source": [
    "## Recibir datos del usuario\n",
    "\n",
    "Comando input()"
   ]
  },
  {
   "cell_type": "code",
   "execution_count": null,
   "id": "cae5e580",
   "metadata": {},
   "outputs": [],
   "source": [
    "input(\"Digita tu nombre: \")\n",
    "input(\"Cual es el mejor lenguaje de programacion del mundo? \")"
   ]
  },
  {
   "cell_type": "markdown",
   "id": "1a2c40a7",
   "metadata": {},
   "source": [
    "## Almacenando datos en variables\n"
   ]
  },
  {
   "cell_type": "code",
   "execution_count": null,
   "id": "3fc6baf7",
   "metadata": {},
   "outputs": [],
   "source": [
    "Proyecto = \"Mi primer proyecto con python\"\n",
    "Numero = 10"
   ]
  },
  {
   "cell_type": "code",
   "execution_count": null,
   "id": "06ac0db5",
   "metadata": {},
   "outputs": [
    {
     "name": "stdout",
     "output_type": "stream",
     "text": [
      "Mi primer proyecto con python\n",
      "10\n"
     ]
    }
   ],
   "source": [
    "print(Proyecto)\n",
    "print(Numero)"
   ]
  },
  {
   "cell_type": "markdown",
   "id": "233f0962",
   "metadata": {},
   "source": [
    "## Mezclando todos los conceptos aprendidos"
   ]
  },
  {
   "cell_type": "code",
   "execution_count": null,
   "id": "4635e938",
   "metadata": {},
   "outputs": [],
   "source": [
    "Proyecto = input(\"Digita la descripcion del proyecto: \")\n",
    "Horas_estimadas = input(\"Digita la cantidad de horas estimadas: \")\n",
    "Valor_hora = input(\"Digita el valor de la hora trabajada: \")\n",
    "Tiempo_estimado = input(\"Digita el tiempo estimado: \")"
   ]
  },
  {
   "cell_type": "code",
   "execution_count": null,
   "id": "b7689c4a",
   "metadata": {},
   "outputs": [
    {
     "name": "stdout",
     "output_type": "stream",
     "text": [
      "Mi primer proyecto con python\n",
      "120\n",
      "90\n",
      "2 meses\n"
     ]
    }
   ],
   "source": [
    "print(Proyecto)\n",
    "print(Horas_estimadas)\n",
    "print(Valor_hora)\n",
    "print(Tiempo_estimado)"
   ]
  },
  {
   "cell_type": "markdown",
   "id": "c874250f",
   "metadata": {},
   "source": [
    "## Calculos con Python"
   ]
  },
  {
   "cell_type": "code",
   "execution_count": null,
   "id": "28e244c8",
   "metadata": {},
   "outputs": [
    {
     "name": "stdout",
     "output_type": "stream",
     "text": [
      "20\n",
      "1991\n",
      "100\n",
      "5.0\n",
      "1\n"
     ]
    }
   ],
   "source": [
    "print(10 + 10)\n",
    "print(2345 - 354)\n",
    "print(10 * 10)\n",
    "print(10 / 2)\n",
    "print(10 % 3)   "
   ]
  },
  {
   "cell_type": "markdown",
   "id": "9f4935cc",
   "metadata": {},
   "source": [
    "## Calculando el valor total del proyecto"
   ]
  },
  {
   "cell_type": "code",
   "execution_count": null,
   "id": "d45dfc11",
   "metadata": {},
   "outputs": [],
   "source": [
    "Valor_total = int(Horas_estimadas) * int(Valor_hora)"
   ]
  },
  {
   "cell_type": "code",
   "execution_count": null,
   "id": "50c9f358",
   "metadata": {},
   "outputs": [
    {
     "data": {
      "text/plain": [
       "10800"
      ]
     },
     "execution_count": 20,
     "metadata": {},
     "output_type": "execute_result"
    }
   ],
   "source": [
    "Valor_total"
   ]
  },
  {
   "cell_type": "markdown",
   "id": "cf8a1c89",
   "metadata": {},
   "source": [
    "## Generando archivo PDF del presupuesto"
   ]
  },
  {
   "cell_type": "code",
   "execution_count": null,
   "id": "6a11557f",
   "metadata": {},
   "outputs": [
    {
     "name": "stdout",
     "output_type": "stream",
     "text": [
      "Requirement already satisfied: fpdf in c:\\users\\usuario\\appdata\\local\\programs\\python\\python313\\lib\\site-packages (1.7.2)\n"
     ]
    },
    {
     "name": "stderr",
     "output_type": "stream",
     "text": [
      "\n",
      "[notice] A new release of pip is available: 24.3.1 -> 25.1.1\n",
      "[notice] To update, run: python.exe -m pip install --upgrade pip\n"
     ]
    }
   ],
   "source": [
    "! pip install fpdf"
   ]
  },
  {
   "cell_type": "code",
   "execution_count": null,
   "id": "cfa5cb4c",
   "metadata": {},
   "outputs": [],
   "source": [
    "from fpdf import FPDF"
   ]
  },
  {
   "cell_type": "code",
   "execution_count": 36,
   "id": "6c87631f",
   "metadata": {},
   "outputs": [
    {
     "name": "stdout",
     "output_type": "stream",
     "text": [
      "Presupuesto generado con éxito!!!\n"
     ]
    }
   ],
   "source": [
    "pdf = FPDF()\n",
    "\n",
    "pdf.add_page()\n",
    "pdf.set_font(\"Arial\")\n",
    "\n",
    "pdf.image(\"Template.png\", 0, 0)\n",
    "\n",
    "pdf.text(115, 145, Proyecto)\n",
    "pdf.text(115, 160, Horas_estimadas)\n",
    "pdf.text(115, 175, Valor_hora)\n",
    "pdf.text(115, 190, Tiempo_estimado)\n",
    "pdf.text(115, 205, str(Valor_total))\n",
    "\n",
    "\n",
    "\n",
    "pdf.output(\"Presupuesto.pdf\")\n",
    "print(\"Presupuesto generado con éxito!!!\")"
   ]
  },
  {
   "cell_type": "markdown",
   "id": "209a9366",
   "metadata": {},
   "source": [
    "# Proyecto 2"
   ]
  }
 ],
 "metadata": {
  "kernelspec": {
   "display_name": "Python 3",
   "language": "python",
   "name": "python3"
  },
  "language_info": {
   "codemirror_mode": {
    "name": "ipython",
    "version": 3
   },
   "file_extension": ".py",
   "mimetype": "text/x-python",
   "name": "python",
   "nbconvert_exporter": "python",
   "pygments_lexer": "ipython3",
   "version": "3.13.2"
  }
 },
 "nbformat": 4,
 "nbformat_minor": 5
}
